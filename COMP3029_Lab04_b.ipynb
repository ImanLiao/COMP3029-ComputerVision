{
  "nbformat": 4,
  "nbformat_minor": 0,
  "metadata": {
    "colab": {
      "name": "COMP3029_Lab04_b.ipynb",
      "provenance": [],
      "collapsed_sections": [],
      "toc_visible": true,
      "machine_shape": "hm",
      "authorship_tag": "ABX9TyN3ZUZ/Yc5QSIYC2uv8/drI",
      "include_colab_link": true
    },
    "kernelspec": {
      "name": "python3",
      "display_name": "Python 3"
    },
    "accelerator": "GPU"
  },
  "cells": [
    {
      "cell_type": "markdown",
      "metadata": {
        "id": "view-in-github",
        "colab_type": "text"
      },
      "source": [
        "<a href=\"https://colab.research.google.com/github/ImanLiao/COMP3029-ComputerVision/blob/main/COMP3029_Lab04_b.ipynb\" target=\"_parent\"><img src=\"https://colab.research.google.com/assets/colab-badge.svg\" alt=\"Open In Colab\"/></a>"
      ]
    },
    {
      "cell_type": "markdown",
      "metadata": {
        "id": "mLqlMPNi_zcD"
      },
      "source": [
        "# Introduction\r\n",
        "This notebook is prepared by Dr. Iman Yi Liao.\r\n",
        "The main objective of the lab session is as follows.\r\n",
        "1. To create Oil Palm Seeds dataset with Dataset class in PyTorch\r\n",
        "2. To load Oil Palm Seeds dataset in memory with Dataloader class in PyTorch\r\n",
        "3. To create a simple CNN to perform image classification "
      ]
    },
    {
      "cell_type": "markdown",
      "metadata": {
        "id": "fDsdZfjpAx7a"
      },
      "source": [
        "# Mount Google Drive"
      ]
    },
    {
      "cell_type": "code",
      "metadata": {
        "colab": {
          "base_uri": "https://localhost:8080/"
        },
        "id": "CS5wVTMGBBnQ",
        "outputId": "99c605c5-5299-4431-acb1-1ca28dff22e9"
      },
      "source": [
        "from google.colab import drive\r\n",
        "drive.mount('/content/drive/')"
      ],
      "execution_count": 1,
      "outputs": [
        {
          "output_type": "stream",
          "text": [
            "Mounted at /content/drive/\n"
          ],
          "name": "stdout"
        }
      ]
    },
    {
      "cell_type": "code",
      "metadata": {
        "colab": {
          "base_uri": "https://localhost:8080/"
        },
        "id": "poyh6DMFBiqy",
        "outputId": "46d7f192-7313-4dc9-9e6d-331327e88560"
      },
      "source": [
        "%cd /content/drive/My Drive/AAR"
      ],
      "execution_count": 1,
      "outputs": [
        {
          "output_type": "stream",
          "text": [
            "/content/drive/My Drive/AAR\n"
          ],
          "name": "stdout"
        }
      ]
    },
    {
      "cell_type": "markdown",
      "metadata": {
        "id": "k1vPAFU-BV5M"
      },
      "source": [
        "# Install Necessary Libraries"
      ]
    },
    {
      "cell_type": "code",
      "metadata": {
        "colab": {
          "base_uri": "https://localhost:8080/"
        },
        "id": "IV_AEONp_sHH",
        "outputId": "5b78e5d3-0c01-42d9-d319-9099ea5211e4"
      },
      "source": [
        "!pip install opencv-contrib-python==4.4.0.44"
      ],
      "execution_count": 3,
      "outputs": [
        {
          "output_type": "stream",
          "text": [
            "Collecting opencv-contrib-python==4.4.0.44\n",
            "\u001b[?25l  Downloading https://files.pythonhosted.org/packages/20/d9/69a0c855c6e11037574e303bd158abf63c1e328ff16dfb175ca5599cc77d/opencv_contrib_python-4.4.0.44-cp37-cp37m-manylinux2014_x86_64.whl (55.7MB)\n",
            "\u001b[K     |████████████████████████████████| 55.7MB 95kB/s \n",
            "\u001b[?25hRequirement already satisfied: numpy>=1.14.5 in /usr/local/lib/python3.7/dist-packages (from opencv-contrib-python==4.4.0.44) (1.19.5)\n",
            "Installing collected packages: opencv-contrib-python\n",
            "  Found existing installation: opencv-contrib-python 4.1.2.30\n",
            "    Uninstalling opencv-contrib-python-4.1.2.30:\n",
            "      Successfully uninstalled opencv-contrib-python-4.1.2.30\n",
            "Successfully installed opencv-contrib-python-4.4.0.44\n"
          ],
          "name": "stdout"
        }
      ]
    },
    {
      "cell_type": "code",
      "metadata": {
        "colab": {
          "base_uri": "https://localhost:8080/"
        },
        "id": "umSNOtINKyRd",
        "outputId": "4459b59a-10f5-4df5-d59d-ef6500b1db87"
      },
      "source": [
        "!pip install tensorboardX"
      ],
      "execution_count": 4,
      "outputs": [
        {
          "output_type": "stream",
          "text": [
            "Collecting tensorboardX\n",
            "\u001b[?25l  Downloading https://files.pythonhosted.org/packages/af/0c/4f41bcd45db376e6fe5c619c01100e9b7531c55791b7244815bac6eac32c/tensorboardX-2.1-py2.py3-none-any.whl (308kB)\n",
            "\r\u001b[K     |█                               | 10kB 20.1MB/s eta 0:00:01\r\u001b[K     |██▏                             | 20kB 27.8MB/s eta 0:00:01\r\u001b[K     |███▏                            | 30kB 23.4MB/s eta 0:00:01\r\u001b[K     |████▎                           | 40kB 17.9MB/s eta 0:00:01\r\u001b[K     |█████▎                          | 51kB 16.1MB/s eta 0:00:01\r\u001b[K     |██████▍                         | 61kB 12.2MB/s eta 0:00:01\r\u001b[K     |███████▍                        | 71kB 13.1MB/s eta 0:00:01\r\u001b[K     |████████▌                       | 81kB 14.4MB/s eta 0:00:01\r\u001b[K     |█████████▌                      | 92kB 12.9MB/s eta 0:00:01\r\u001b[K     |██████████▋                     | 102kB 12.6MB/s eta 0:00:01\r\u001b[K     |███████████▊                    | 112kB 12.6MB/s eta 0:00:01\r\u001b[K     |████████████▊                   | 122kB 12.6MB/s eta 0:00:01\r\u001b[K     |█████████████▉                  | 133kB 12.6MB/s eta 0:00:01\r\u001b[K     |██████████████▉                 | 143kB 12.6MB/s eta 0:00:01\r\u001b[K     |████████████████                | 153kB 12.6MB/s eta 0:00:01\r\u001b[K     |█████████████████               | 163kB 12.6MB/s eta 0:00:01\r\u001b[K     |██████████████████              | 174kB 12.6MB/s eta 0:00:01\r\u001b[K     |███████████████████             | 184kB 12.6MB/s eta 0:00:01\r\u001b[K     |████████████████████▏           | 194kB 12.6MB/s eta 0:00:01\r\u001b[K     |█████████████████████▎          | 204kB 12.6MB/s eta 0:00:01\r\u001b[K     |██████████████████████▎         | 215kB 12.6MB/s eta 0:00:01\r\u001b[K     |███████████████████████▍        | 225kB 12.6MB/s eta 0:00:01\r\u001b[K     |████████████████████████▍       | 235kB 12.6MB/s eta 0:00:01\r\u001b[K     |█████████████████████████▌      | 245kB 12.6MB/s eta 0:00:01\r\u001b[K     |██████████████████████████▌     | 256kB 12.6MB/s eta 0:00:01\r\u001b[K     |███████████████████████████▋    | 266kB 12.6MB/s eta 0:00:01\r\u001b[K     |████████████████████████████▋   | 276kB 12.6MB/s eta 0:00:01\r\u001b[K     |█████████████████████████████▊  | 286kB 12.6MB/s eta 0:00:01\r\u001b[K     |██████████████████████████████▊ | 296kB 12.6MB/s eta 0:00:01\r\u001b[K     |███████████████████████████████▉| 307kB 12.6MB/s eta 0:00:01\r\u001b[K     |████████████████████████████████| 317kB 12.6MB/s \n",
            "\u001b[?25hRequirement already satisfied: numpy in /usr/local/lib/python3.7/dist-packages (from tensorboardX) (1.19.5)\n",
            "Requirement already satisfied: protobuf>=3.8.0 in /usr/local/lib/python3.7/dist-packages (from tensorboardX) (3.12.4)\n",
            "Requirement already satisfied: six in /usr/local/lib/python3.7/dist-packages (from tensorboardX) (1.15.0)\n",
            "Requirement already satisfied: setuptools in /usr/local/lib/python3.7/dist-packages (from protobuf>=3.8.0->tensorboardX) (54.0.0)\n",
            "Installing collected packages: tensorboardX\n",
            "Successfully installed tensorboardX-2.1\n"
          ],
          "name": "stdout"
        }
      ]
    },
    {
      "cell_type": "markdown",
      "metadata": {
        "id": "PxfEiFg5LbrU"
      },
      "source": [
        "# Create Oil Palm Seeds Dataset\r\n",
        "Use **Dataset** class in PyTorch to create the oil palm seeds dataset and use **DataLoader** class in PyTorch to load dataset in minibatches."
      ]
    },
    {
      "cell_type": "code",
      "metadata": {
        "id": "C5aaZ9aKi6rK"
      },
      "source": [
        "import torch\r\n",
        "from torch.utils.data import Dataset\r\n",
        "from torchvision.transforms import ToTensor, Lambda\r\n",
        "import torchvision.transforms as transforms\r\n",
        "import matplotlib.pyplot as plt\r\n",
        "import cv2"
      ],
      "execution_count": 2,
      "outputs": []
    },
    {
      "cell_type": "markdown",
      "metadata": {
        "id": "mnQqNs0CRkxU"
      },
      "source": [
        "Define the oil palm seeds dataset"
      ]
    },
    {
      "cell_type": "code",
      "metadata": {
        "id": "4y5jsIbNNRK8"
      },
      "source": [
        "import os\r\n",
        "import pandas as pd\r\n",
        "from torchvision.io import read_image\r\n",
        "\r\n",
        "class OilPalmSeedsDataset(Dataset):\r\n",
        "    def __init__(self, df, base_path, transform=None, target_transform=None):\r\n",
        "        self.df = df\r\n",
        "        self.base_path = base_path\r\n",
        "        self.transform = transform\r\n",
        "        self.target_transform = target_transform\r\n",
        "\r\n",
        "    def __len__(self):\r\n",
        "        return len(self.df)\r\n",
        "\r\n",
        "    def __getitem__(self, idx):\r\n",
        "        label = self.df.iloc[idx, 1]\r\n",
        "\r\n",
        "        # The training images are stored in two separate folders\r\n",
        "        if label == 1:\r\n",
        "          img_path = os.path.join(self.base_path, 'GoodSeed/', self.df.iloc[idx, 0])\r\n",
        "        elif label == 0:\r\n",
        "          img_path = os.path.join(self.base_path, 'BadSeed/', self.df.iloc[idx, 0])\r\n",
        "        image = read_image(img_path)\r\n",
        "        # print(image.shape)\r\n",
        "        #image = transforms.ToTensor() # convert ndarray to tensor\r\n",
        "        #label = transforms.ToTensor() \r\n",
        "\r\n",
        "        # if any transformation is needed, e.g., to resize the image\r\n",
        "        if self.transform:\r\n",
        "            image = self.transform(image)\r\n",
        "        if self.target_transform:\r\n",
        "            label = self.target_transform(label)\r\n",
        "\r\n",
        "        sample = {\"image\": image, \"label\": label}\r\n",
        "        return sample"
      ],
      "execution_count": 22,
      "outputs": []
    },
    {
      "cell_type": "markdown",
      "metadata": {
        "id": "drcvpTM7m1pd"
      },
      "source": [
        "## Define the transformations you need to perform on images\r\n",
        "If you need to resize the height and width of an image, randomly crop anf flip it, normalise each channel of the image, you can use torchvision.transforms."
      ]
    },
    {
      "cell_type": "code",
      "metadata": {
        "id": "Kva0CYdSw1L6"
      },
      "source": [
        "# Note that the following transforms are not necessarily applicable to the raw images in our oil palm seeds dataset\r\n",
        "# You will have to do something more appropriate and relevant\r\n",
        "transform = transforms.Compose(\r\n",
        "        [transforms.Resize([256, 256]),\r\n",
        "         transforms.RandomCrop(224),\r\n",
        "         transforms.RandomHorizontalFlip(),\r\n",
        "         #transforms.Normalize((0.5,0.5,0.5), (0.5,0.5,0.5)), # mean, variance\r\n",
        "         #transforms.ToTensor()\r\n",
        "         ])"
      ],
      "execution_count": 23,
      "outputs": []
    },
    {
      "cell_type": "markdown",
      "metadata": {
        "id": "3JHq2mukQ5Gm"
      },
      "source": [
        "Create the training and testing dataset"
      ]
    },
    {
      "cell_type": "code",
      "metadata": {
        "colab": {
          "base_uri": "https://localhost:8080/"
        },
        "id": "cfHxhD8WRyXy",
        "outputId": "f4845e8f-e7df-4f9c-c6d2-9ca08877bd0b"
      },
      "source": [
        "import numpy as np\r\n",
        "\r\n",
        "# load the training csv file in terms of annotations to dataframe and randomly split it to training and validation sets respectively\r\n",
        "trainvaldf = pd.read_csv(\"trainingdata.csv\")\r\n",
        "traindf, valdf = np.split(trainvaldf.sample(frac=1, random_state=42), [int(.8*len(trainvaldf))])\r\n",
        "base_path = '/content/drive/My Drive/AAR/seed/'\r\n",
        "\r\n",
        "# Create training and validation dataset with OilPalmSeedsDataset\r\n",
        "train_dataset = OilPalmSeedsDataset(traindf, base_path=base_path, transform=transform)\r\n",
        "val_dataset = OilPalmSeedsDataset(valdf, base_path=base_path, transform=transform)\r\n",
        "\r\n",
        "print('training set', len(train_dataset))\r\n",
        "print('val set', len(val_dataset))\r\n"
      ],
      "execution_count": 24,
      "outputs": [
        {
          "output_type": "stream",
          "text": [
            "training set 139\n",
            "val set 35\n"
          ],
          "name": "stdout"
        }
      ]
    },
    {
      "cell_type": "code",
      "metadata": {
        "colab": {
          "base_uri": "https://localhost:8080/"
        },
        "id": "pUEgFLerXOqh",
        "outputId": "d9159560-d4eb-45db-9f39-65d78d310a56"
      },
      "source": [
        "# load the testing csv file as dataframe\r\n",
        "testdf = pd.read_csv(\"testdata.csv\")\r\n",
        "test_dataset = OilPalmSeedsDataset(testdf, base_path=base_path, transform=transforms.Resize([224, 224]))\r\n",
        "print('test set', len(test_dataset))"
      ],
      "execution_count": 25,
      "outputs": [
        {
          "output_type": "stream",
          "text": [
            "test set 40\n"
          ],
          "name": "stdout"
        }
      ]
    },
    {
      "cell_type": "markdown",
      "metadata": {
        "id": "4b_4OPpyYL-2"
      },
      "source": [
        "AS Dataset retrieves images and labels one sample at a time, but we typically need to pass samples in \"minibatches\", reshuffle the data at every epoch to reduce model overfitting, and use Python’s multiprocessing to speed up data retrieval. DataLoader is an iterable that abstracts this complexity for us in an easy API."
      ]
    },
    {
      "cell_type": "code",
      "metadata": {
        "id": "pGs0vGlmY0ET"
      },
      "source": [
        "from torch.utils.data import DataLoader\r\n",
        "\r\n",
        "train_dataloader = DataLoader(train_dataset, batch_size=8, shuffle=True, num_workers=4)\r\n",
        "val_dataloader = DataLoader(val_dataset, batch_size=8, shuffle=True, num_workers=4)\r\n",
        "test_dataloader = DataLoader(test_dataset, batch_size=8, shuffle=True, num_workers=4)"
      ],
      "execution_count": 26,
      "outputs": []
    },
    {
      "cell_type": "markdown",
      "metadata": {
        "id": "CdifK9EJayPz"
      },
      "source": [
        "We can access samples in DataLoader using iterable feature"
      ]
    },
    {
      "cell_type": "code",
      "metadata": {
        "colab": {
          "base_uri": "https://localhost:8080/",
          "height": 319
        },
        "id": "bFX7Bsl0gl0_",
        "outputId": "53076256-646a-462b-ab4d-184ca606d1d9"
      },
      "source": [
        "for i, sample in enumerate(train_dataloader):\r\n",
        "  if i > 0:\r\n",
        "    break\r\n",
        "  print(sample['image'].size())\r\n",
        "  print(sample['label'].size())\r\n",
        "  plt.imshow(sample['image'][0].permute(1,2,0)) # change (C,H,W) to (H,W,C)\r\n",
        "  plt.show()\r\n",
        "  print(f\"Label: {sample['label'][0]}\")\r\n"
      ],
      "execution_count": 27,
      "outputs": [
        {
          "output_type": "stream",
          "text": [
            "torch.Size([8, 3, 224, 224])\n",
            "torch.Size([8])\n"
          ],
          "name": "stdout"
        },
        {
          "output_type": "display_data",
          "data": {
            "image/png": "[encoded data removed]",
            "text/plain": [
              "<Figure size 432x288 with 1 Axes>"
            ]
          },
          "metadata": {
            "tags": [],
            "needs_background": "light"
          }
        },
        {
          "output_type": "stream",
          "text": [
            "Label: 0\n"
          ],
          "name": "stdout"
        }
      ]
    },
    {
      "cell_type": "markdown",
      "metadata": {
        "id": "tq0vXrzxzPH3"
      },
      "source": [
        "# Define a simple CNN"
      ]
    },
    {
      "cell_type": "code",
      "metadata": {
        "id": "gyIzMMH8lPbK"
      },
      "source": [
        "import torch\r\n",
        "import torchvision\r\n",
        "import torchvision.transforms as transforms\r\n",
        "import numpy as np\r\n",
        "import matplotlib.pyplot as plt \r\n",
        "import pandas as pd \r\n",
        "%matplotlib inline "
      ],
      "execution_count": 28,
      "outputs": []
    },
    {
      "cell_type": "code",
      "metadata": {
        "id": "-dQ5lTeCn_fb"
      },
      "source": [
        "import torch.nn as nn \r\n",
        "import torch.nn.functional as F "
      ],
      "execution_count": 29,
      "outputs": []
    },
    {
      "cell_type": "markdown",
      "metadata": {
        "id": "TlTJlsvXoQIe"
      },
      "source": [
        "We will define a class myCNN. It inherits from nn.Module and have two methods: an __init__() method and a forward() method. "
      ]
    },
    {
      "cell_type": "code",
      "metadata": {
        "id": "kloEwKY4parM"
      },
      "source": [
        "class myCNN(nn.Module): \r\n",
        "    def __init__(self, input_size): \r\n",
        "        super(myCNN,self).__init__()\r\n",
        "        self.input_size = input_size # the input size of a single image (C,H,W)\r\n",
        "        self.conv1 = nn.Conv2d(in_channels=3, out_channels=6, kernel_size=5, stride=1, padding=0)\r\n",
        "        # we use the maxpool multiple times, but define it once\r\n",
        "        self.pool = nn.MaxPool2d(2,2)\r\n",
        "        # in_channels = 6 because self.conv1 output 6 channel\r\n",
        "        self.conv2 = nn.Conv2d(6,16,5) \r\n",
        "        # The input number to the first fully connected layer is a bit tricky\r\n",
        "        # We can run through a dummy forward pass to obtain the input number to the first fully connected layer\r\n",
        "        dummydata = torch.rand(1, *self.input_size)\r\n",
        "        dummydata = self.pool(F.relu(self.conv1(dummydata)))\r\n",
        "        dummydata = self.pool(F.relu(self.conv2(dummydata)))\r\n",
        "        self.num_features_2fc = dummydata.shape[0]*dummydata.shape[1]*dummydata.shape[2]*dummydata.shape[3] # there are clever ways but I don't recall them and need to search up\r\n",
        "        self.fc1 = nn.Linear(in_features=self.num_features_2fc, out_features=120) \r\n",
        "        self.fc2 = nn.Linear(120, 84)\r\n",
        "        self.fc3 = nn.Linear(84, 2)\r\n",
        "        \r\n",
        "    def forward(self, x): \r\n",
        "        x = self.pool(F.relu(self.conv1(x)))\r\n",
        "        x = self.pool(F.relu(self.conv2(x)))\r\n",
        "        x = x.view(-1, self.num_features_2fc)\r\n",
        "        #x = torch.flatten(x)\r\n",
        "        x = F.relu(self.fc1(x))\r\n",
        "        x = F.relu(self.fc2(x))\r\n",
        "        x = self.fc3(x)  # no activation on final layer \r\n",
        "        return F.log_softmax(x)\r\n",
        "\r\n",
        "model = myCNN(train_dataset[0]['image'].shape)"
      ],
      "execution_count": 54,
      "outputs": []
    },
    {
      "cell_type": "markdown",
      "metadata": {
        "id": "pZmeV65rzfbo"
      },
      "source": [
        "It's likely you will be using GPU for training process"
      ]
    },
    {
      "cell_type": "code",
      "metadata": {
        "id": "IGFg_iyqaLjQ",
        "colab": {
          "base_uri": "https://localhost:8080/"
        },
        "outputId": "e30888be-d9e8-4150-c8eb-b130442afce4"
      },
      "source": [
        "device = torch.device('cuda:0' if torch.cuda.is_available() else 'cpu')\r\n",
        "print('Using {} device'.format(device))\r\n",
        "model.to(device)"
      ],
      "execution_count": 55,
      "outputs": [
        {
          "output_type": "stream",
          "text": [
            "Using cuda:0 device\n"
          ],
          "name": "stdout"
        },
        {
          "output_type": "execute_result",
          "data": {
            "text/plain": [
              "myCNN(\n",
              "  (conv1): Conv2d(3, 6, kernel_size=(5, 5), stride=(1, 1))\n",
              "  (pool): MaxPool2d(kernel_size=2, stride=2, padding=0, dilation=1, ceil_mode=False)\n",
              "  (conv2): Conv2d(6, 16, kernel_size=(5, 5), stride=(1, 1))\n",
              "  (fc1): Linear(in_features=44944, out_features=120, bias=True)\n",
              "  (fc2): Linear(in_features=120, out_features=84, bias=True)\n",
              "  (fc3): Linear(in_features=84, out_features=2, bias=True)\n",
              ")"
            ]
          },
          "metadata": {
            "tags": []
          },
          "execution_count": 55
        }
      ]
    },
    {
      "cell_type": "markdown",
      "metadata": {
        "id": "XYqmcLfPp61s"
      },
      "source": [
        "# Train the model you've created with the oil palm dataset\r\n",
        "Beware that the dataset is not processed to be effective for training. The following demonstratest the key components you will need for training process."
      ]
    },
    {
      "cell_type": "markdown",
      "metadata": {
        "id": "HJftfKbxrPvu"
      },
      "source": [
        "## Initialise model parameters\r\n",
        "If you do nothing, the parameters will be initialised by PyTorch's default initialisation methods for [convolutional layer](https://github.com/pytorch/pytorch/blob/9cf62a4b5d3b287442e70c0c560a8e21d8c3b189/torch/nn/modules/conv.py#L111) and for [linear layer](https://github.com/pytorch/pytorch/blob/9cf62a4b5d3b287442e70c0c560a8e21d8c3b189/torch/nn/modules/linear.py#L168).\r\n",
        "\r\n",
        "We will define initialisation methods other than the default. There are many other ways of initialising weights, e.g., for a single layer, and with your own specific value."
      ]
    },
    {
      "cell_type": "code",
      "metadata": {
        "id": "EEwmAE664j9U"
      },
      "source": [
        "def initialize_weights(model):\r\n",
        "  if isinstance(model, nn.Conv2d):\r\n",
        "      nn.init.kaiming_uniform_(model.weight.data,nonlinearity='relu')\r\n",
        "      if model.bias is not None:\r\n",
        "          nn.init.constant_(model.bias.data, 0)\r\n",
        "  elif isinstance(model, nn.BatchNorm2d):\r\n",
        "      nn.init.constant_(model.weight.data, 1)\r\n",
        "      nn.init.constant_(model.bias.data, 0)\r\n",
        "  elif isinstance(model, nn.Linear):\r\n",
        "      nn.init.kaiming_uniform_(model.weight.data)\r\n",
        "      nn.init.constant_(model.bias.data, 0)"
      ],
      "execution_count": 56,
      "outputs": []
    },
    {
      "cell_type": "markdown",
      "metadata": {
        "id": "StrndVTO5FnY"
      },
      "source": [
        "We now apply the initialisation methods to the model."
      ]
    },
    {
      "cell_type": "code",
      "metadata": {
        "colab": {
          "base_uri": "https://localhost:8080/"
        },
        "id": "mC3Hi9jr5Jqj",
        "outputId": "23a90e71-6f29-414a-d4fa-63a3e7499147"
      },
      "source": [
        "model.apply(initialize_weights)"
      ],
      "execution_count": 57,
      "outputs": [
        {
          "output_type": "execute_result",
          "data": {
            "text/plain": [
              "myCNN(\n",
              "  (conv1): Conv2d(3, 6, kernel_size=(5, 5), stride=(1, 1))\n",
              "  (pool): MaxPool2d(kernel_size=2, stride=2, padding=0, dilation=1, ceil_mode=False)\n",
              "  (conv2): Conv2d(6, 16, kernel_size=(5, 5), stride=(1, 1))\n",
              "  (fc1): Linear(in_features=44944, out_features=120, bias=True)\n",
              "  (fc2): Linear(in_features=120, out_features=84, bias=True)\n",
              "  (fc3): Linear(in_features=84, out_features=2, bias=True)\n",
              ")"
            ]
          },
          "metadata": {
            "tags": []
          },
          "execution_count": 57
        }
      ]
    },
    {
      "cell_type": "markdown",
      "metadata": {
        "id": "k5kCKOEW7pb-"
      },
      "source": [
        "## Loss function and optimisation"
      ]
    },
    {
      "cell_type": "markdown",
      "metadata": {
        "id": "KPTU15BH86Wn"
      },
      "source": [
        "We define the loss function as cross-entropy for classification problems. We use stochastic gradient descent optmisation method for error back propagation."
      ]
    },
    {
      "cell_type": "code",
      "metadata": {
        "id": "D1HWNVyF71lZ"
      },
      "source": [
        "import torch.optim as optim\r\n",
        "\r\n",
        "criterion = nn.CrossEntropyLoss()\r\n",
        "optimizer = optim.SGD(model.parameters(), lr=0.001, momentum=0.9)"
      ],
      "execution_count": 58,
      "outputs": []
    },
    {
      "cell_type": "markdown",
      "metadata": {
        "id": "eIdcGRui9oyw"
      },
      "source": [
        "During training we need to keep track of the loss function value. We also have to evaluate the performance at each epoch with validation dataset."
      ]
    },
    {
      "cell_type": "code",
      "metadata": {
        "colab": {
          "base_uri": "https://localhost:8080/"
        },
        "id": "mrT4RPa_I6Ze",
        "outputId": "e34cebf3-bc66-4470-cb0b-6f56d5fca4f5"
      },
      "source": [
        "data_lengths = {'train': len(train_dataset), 'val': len(val_dataset)}\r\n",
        "print(data_lengths)"
      ],
      "execution_count": 46,
      "outputs": [
        {
          "output_type": "stream",
          "text": [
            "{'train': 139, 'val': 35}\n"
          ],
          "name": "stdout"
        }
      ]
    },
    {
      "cell_type": "code",
      "metadata": {
        "colab": {
          "base_uri": "https://localhost:8080/"
        },
        "id": "4U5E5R4K9_VR",
        "outputId": "2bd03a24-0884-4f3d-f6b3-a1bb92814d2b"
      },
      "source": [
        "from torch.autograd import Variable\r\n",
        "\r\n",
        "# Training with Validation \r\n",
        "n_epochs = 2 # just to test the code\r\n",
        "data_loaders = {'train': train_dataloader, 'val': val_dataloader}\r\n",
        "data_lengths = {'train': len(train_dataset), 'val': len(val_dataset)}\r\n",
        "\r\n",
        "for epoch in range(n_epochs):\r\n",
        "    print('Epoch {}/{}'.format(epoch, n_epochs - 1))\r\n",
        "    print('-' * 10)\r\n",
        "\r\n",
        "    # Each epoch has a training and validation phase\r\n",
        "    for phase in ['train', 'val']:\r\n",
        "        if phase == 'train':\r\n",
        "            #optimizer = scheduler(optimizer, epoch)\r\n",
        "            model.train(True)  # Set model to training mode\r\n",
        "        else:\r\n",
        "            model.train(False)  # Set model to evaluate mode\r\n",
        "\r\n",
        "        running_loss = 0.0\r\n",
        "\r\n",
        "        # Iterate over data.\r\n",
        "        for data in data_loaders[phase]:\r\n",
        "\r\n",
        "            # get the input images and their corresponding labels\r\n",
        "            images = data['image']\r\n",
        "            labels = data['label']\r\n",
        "\r\n",
        "            # wrap them in a torch Variable\r\n",
        "            images, labels = Variable(images), Variable(labels)\r\n",
        "\r\n",
        "            # convert variables to floats for regression loss\r\n",
        "            labels = labels.type(torch.LongTensor).to(device)\r\n",
        "            images = images.type(torch.FloatTensor).to(device)\r\n",
        "\r\n",
        "            # forward pass to get outputs\r\n",
        "            output_labels = model(images)\r\n",
        "\r\n",
        "            # calculate the loss between predicted and target keypoints\r\n",
        "            loss = criterion(output_labels, labels)\r\n",
        "\r\n",
        "            # zero the parameter (weight) gradients\r\n",
        "            optimizer.zero_grad()\r\n",
        "\r\n",
        "            # backward + optimize only if in training phase\r\n",
        "            if phase == 'train':\r\n",
        "                loss.backward()\r\n",
        "                # update the weights\r\n",
        "                optimizer.step()\r\n",
        "\r\n",
        "            # print loss statistics\r\n",
        "            running_loss += loss.item()\r\n",
        "\r\n",
        "        epoch_loss = running_loss / data_lengths[phase]\r\n",
        "        print('{} Loss: {:.4f}'.format(phase, epoch_loss))"
      ],
      "execution_count": 63,
      "outputs": [
        {
          "output_type": "stream",
          "text": [
            "Epoch 0/1\n",
            "----------\n"
          ],
          "name": "stdout"
        },
        {
          "output_type": "stream",
          "text": [
            "/usr/local/lib/python3.7/dist-packages/ipykernel_launcher.py:28: UserWarning: Implicit dimension choice for log_softmax has been deprecated. Change the call to include dim=X as an argument.\n"
          ],
          "name": "stderr"
        },
        {
          "output_type": "stream",
          "text": [
            "train Loss: 866070033.6260\n",
            "val Loss: 0.0987\n",
            "Epoch 1/1\n",
            "----------\n",
            "train Loss: 0.0901\n",
            "val Loss: 0.0990\n"
          ],
          "name": "stdout"
        }
      ]
    },
    {
      "cell_type": "markdown",
      "metadata": {
        "id": "nbcrsBBxVEhz"
      },
      "source": [
        "## Prediction"
      ]
    },
    {
      "cell_type": "markdown",
      "metadata": {
        "id": "5tiR6odfM-me"
      },
      "source": [
        "Once the model is trained, it is good practice to save the model parameters."
      ]
    },
    {
      "cell_type": "code",
      "metadata": {
        "colab": {
          "base_uri": "https://localhost:8080/"
        },
        "id": "YKXhGfTCNKFm",
        "outputId": "d1728084-4dde-45a8-c008-82d56f73ffaf"
      },
      "source": [
        "for param in model.state_dict():\r\n",
        "    print(param, \"\\t\", model.state_dict()[param].size())"
      ],
      "execution_count": 64,
      "outputs": [
        {
          "output_type": "stream",
          "text": [
            "conv1.weight \t torch.Size([6, 3, 5, 5])\n",
            "conv1.bias \t torch.Size([6])\n",
            "conv2.weight \t torch.Size([16, 6, 5, 5])\n",
            "conv2.bias \t torch.Size([16])\n",
            "fc1.weight \t torch.Size([120, 44944])\n",
            "fc1.bias \t torch.Size([120])\n",
            "fc2.weight \t torch.Size([84, 120])\n",
            "fc2.bias \t torch.Size([84])\n",
            "fc3.weight \t torch.Size([2, 84])\n",
            "fc3.bias \t torch.Size([2])\n"
          ],
          "name": "stdout"
        }
      ]
    },
    {
      "cell_type": "code",
      "metadata": {
        "id": "qyOZS7poNm9b"
      },
      "source": [
        "fname = '/content/drive/My Drive/AAR/myModel.pkl'\r\n",
        "torch.save(model.state_dict(), fname)"
      ],
      "execution_count": 66,
      "outputs": []
    },
    {
      "cell_type": "markdown",
      "metadata": {
        "id": "VXpjKuo1ODDi"
      },
      "source": [
        "Now load the saved model"
      ]
    },
    {
      "cell_type": "code",
      "metadata": {
        "colab": {
          "base_uri": "https://localhost:8080/"
        },
        "id": "c2TPkFFhOG2T",
        "outputId": "a1842834-4300-451c-e15d-fc2a4c1a6653"
      },
      "source": [
        "loaded_dict = torch.load(fname)\r\n",
        "model.load_state_dict(loaded_dict)\r\n",
        "model.eval()"
      ],
      "execution_count": 68,
      "outputs": [
        {
          "output_type": "execute_result",
          "data": {
            "text/plain": [
              "myCNN(\n",
              "  (conv1): Conv2d(3, 6, kernel_size=(5, 5), stride=(1, 1))\n",
              "  (pool): MaxPool2d(kernel_size=2, stride=2, padding=0, dilation=1, ceil_mode=False)\n",
              "  (conv2): Conv2d(6, 16, kernel_size=(5, 5), stride=(1, 1))\n",
              "  (fc1): Linear(in_features=44944, out_features=120, bias=True)\n",
              "  (fc2): Linear(in_features=120, out_features=84, bias=True)\n",
              "  (fc3): Linear(in_features=84, out_features=2, bias=True)\n",
              ")"
            ]
          },
          "metadata": {
            "tags": []
          },
          "execution_count": 68
        }
      ]
    },
    {
      "cell_type": "markdown",
      "metadata": {
        "id": "_0x68bV1PcvU"
      },
      "source": [
        "We can now use the trained model to predict on our testing dataset."
      ]
    },
    {
      "cell_type": "code",
      "metadata": {
        "colab": {
          "base_uri": "https://localhost:8080/"
        },
        "id": "K_kphQb_Picm",
        "outputId": "82682604-d594-4026-868b-058e0841067d"
      },
      "source": [
        "total = 0  # keeps track of how many images we have processed \r\n",
        "correct = 0  # keeps track of how many correct images our model predicts\r\n",
        "with torch.no_grad():\r\n",
        "    for i, data in enumerate(test_dataloader): \r\n",
        "        images = data['image']\r\n",
        "        labels = data['label']\r\n",
        "\r\n",
        "        # wrap them in a torch Variable\r\n",
        "        images, labels = Variable(images), Variable(labels)\r\n",
        "\r\n",
        "        # convert variables to floats for regression loss\r\n",
        "        labels = labels.type(torch.LongTensor).to(device)\r\n",
        "        images = images.type(torch.FloatTensor).to(device)\r\n",
        "\r\n",
        "        outputs = model(images)\r\n",
        "        _, predicted = torch.max(outputs.data, 1)\r\n",
        "        total += labels.size()[0]\r\n",
        "        correct += (predicted == labels).sum().item()\r\n",
        "    \r\n",
        "print(\"Accuracy: \", correct/total)"
      ],
      "execution_count": 71,
      "outputs": [
        {
          "output_type": "stream",
          "text": [
            "/usr/local/lib/python3.7/dist-packages/ipykernel_launcher.py:28: UserWarning: Implicit dimension choice for log_softmax has been deprecated. Change the call to include dim=X as an argument.\n"
          ],
          "name": "stderr"
        },
        {
          "output_type": "stream",
          "text": [
            "Accuracy:  0.5\n"
          ],
          "name": "stdout"
        }
      ]
    }
  ]
}